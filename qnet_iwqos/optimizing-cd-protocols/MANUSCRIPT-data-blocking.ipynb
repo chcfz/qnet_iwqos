{
 "cells": [
  {
   "cell_type": "markdown",
   "id": "d76e749a",
   "metadata": {},
   "source": [
    "# Data blocking and correlation time"
   ]
  },
  {
   "cell_type": "markdown",
   "id": "ecbf5474",
   "metadata": {},
   "source": [
    "Following the ideas from Chapter 7.4 from Thijssen 2007 [1], we tried to use data blocking to estimate errors in our simulations. This method divides a realization of a stochastic process into data blocks of size larger than the correlation time. Then, the average of each block is calculated and the standard deviation of those averages is used as a measure of the error.\n",
    "\n",
    "The main issue with this method is that we need many data blocks to extract reliable statistics. In our case, the correlation time is of the order of magnitude of the cutoff, so we would need to run the simulation for a very long time (e.g., a hundred times the cutoff). This means that we would need to store much more data (currently, we only store the averages over many realizations).\n",
    "\n",
    "In the example below, the cutoff is 221 and one realization takes 442 time steps. The correlation time of the virtual neighborhood size calculated from one realization is 70-95 (depending on the node we look at) and from the average over 10000 realizations is 166-185. In our original implementation, we only need to save 442 values, since we only store the averages over those 10000 runs. If we want to do data blocking, we would need to run the simulation for $442 \\cdot 10000$ and then store $4.42 \\cdot 10^6$ values, and then do data blocking using those values. We still have to multiply the storage size times two (virtual neighbors and virtual degree) and times the number of nodes.\n",
    "\n",
    "[1] Thijssen, J. (2007). Computational physics. Cambridge university press."
   ]
  },
  {
   "cell_type": "code",
   "execution_count": 27,
   "id": "b1f8e3f7",
   "metadata": {},
   "outputs": [],
   "source": [
    "import numpy as np\n",
    "import numpy.matlib as npm\n",
    "import json\n",
    "import matplotlib.pyplot as plt\n",
    "from matplotlib import rc\n",
    "import copy\n",
    "import warnings\n",
    "import scipy\n",
    "from scipy import sparse\n",
    "from tqdm import tqdm\n",
    "from tqdm.notebook import tqdm as tqdmn\n",
    "import importlib as imp\n",
    "import os\n",
    "import random\n",
    "\n",
    "import main_cd as main\n",
    "import main_cd_plots as pltm\n",
    "import validation_tests as tests\n",
    "\n",
    "# Dark background?\n",
    "dark = False\n",
    "if dark==True:\n",
    "    plt.style.use('dark_background')\n",
    "else:\n",
    "    plt.style.use('default')\n",
    "    \n",
    "# Latex\n",
    "from matplotlib import rc\n",
    "rc('text', usetex=True)\n",
    "plt.rcParams.update({\n",
    "    'text.usetex': True,\n",
    "    'text.latex.preamble': r'\\usepackage{amsfonts}'\n",
    "})\n",
    "\n",
    "# Save figures in the notebook with decent quality\n",
    "%matplotlib inline\n",
    "import matplotlib as mpl\n",
    "mpl.rcParams['figure.dpi']= 100\n",
    "\n",
    "# Create figures directory if needed\n",
    "try:\n",
    "    os.mkdir('figs')\n",
    "except FileExistsError:\n",
    "    pass"
   ]
  },
  {
   "cell_type": "code",
   "execution_count": 28,
   "id": "f7e6c952",
   "metadata": {},
   "outputs": [
    {
     "name": "stdout",
     "output_type": "stream",
     "text": [
      "cutoff = 221.0\n"
     ]
    }
   ],
   "source": [
    "imp.reload(main)\n",
    "\n",
    "# Topology\n",
    "protocol = 'srs'\n",
    "d = 2\n",
    "k = 3\n",
    "n = int(str(d)+str(k)) # This variable is only for data storage purposes\n",
    "A = main.adjacency_tree(d,k)\n",
    "topology = 'tree'\n",
    "\n",
    "# Hardware\n",
    "p_gen = 0.2\n",
    "p_swap = 1 # Fixed\n",
    "qbits_per_channel = 5 # Fixed\n",
    "coherence_time = 2000\n",
    "\n",
    "# Software/application\n",
    "max_links_swapped = 3 # Fixed\n",
    "p_cons = p_gen/2 # Fixed\n",
    "F_app = 0.6\n",
    "\n",
    "# CD protocol\n",
    "q_swap = 0\n",
    "\n",
    "# Cutoff calculation\n",
    "F_new = 1-p_gen/2 # Fixed\n",
    "cutoff = np.floor( -coherence_time * np.log(3*(\n",
    "            (4*F_app-1)/3)**(1/max_links_swapped)/(4*F_new-1)) ) # Fixed\n",
    "print('cutoff =',cutoff)\n",
    "\n",
    "\n",
    "# Simulation\n",
    "data_type = 'avg'\n",
    "N_samples = 10000 #10000\n",
    "total_time = cutoff*2 #*10\n",
    "window = 10\n",
    "randomseed = 2\n",
    "np.random.seed(randomseed)\n",
    "\n",
    "# Plot\n",
    "users = [0,1,2] # Nodes that we want to look at: root, branch (lvl 1), and leaf (lvl 2)\n",
    "user_phys_degs = [2,3,1]\n",
    "varying_array = np.append( np.arange(0,0.5,0.01), np.arange(0.5,1.01,0.05) )\n",
    "varying_param = 'q_swap'"
   ]
  },
  {
   "cell_type": "markdown",
   "id": "ba3c1b92",
   "metadata": {},
   "source": [
    "---\n",
    "---\n",
    "## Correlation time of a single realization\n",
    "---\n",
    "---"
   ]
  },
  {
   "cell_type": "code",
   "execution_count": 29,
   "id": "b855173a",
   "metadata": {},
   "outputs": [
    {
     "data": {
      "application/vnd.jupyter.widget-view+json": {
       "model_id": "",
       "version_major": 2,
       "version_minor": 0
      },
      "text/plain": [
       "Samples:   0%|          | 0/1 [00:00<?, ?it/s]"
      ]
     },
     "metadata": {},
     "output_type": "display_data"
    }
   ],
   "source": [
    "data = main.simulation_cd(protocol, A, p_gen, q_swap, p_swap,\n",
    "                            p_cons, cutoff, max_links_swapped,\n",
    "                            qbits_per_channel, N_samples=1,\n",
    "                            total_time=int(total_time),\n",
    "                            progress_bar='notebook',\n",
    "                            return_data='all')"
   ]
  },
  {
   "cell_type": "code",
   "execution_count": 30,
   "id": "080c794a",
   "metadata": {},
   "outputs": [
    {
     "name": "stdout",
     "output_type": "stream",
     "text": [
      "92.14746356484895\n"
     ]
    },
    {
     "data": {
      "image/png": "[encoded data removed]",
      "text/plain": [
       "<Figure size 600x400 with 1 Axes>"
      ]
     },
     "metadata": {
      "needs_background": "light"
     },
     "output_type": "display_data"
    }
   ],
   "source": [
    "imp.reload(main)\n",
    "\n",
    "node = 0 # 0, 1, or 2\n",
    "\n",
    "array = [i[0] for i in data[1][node]]\n",
    "\n",
    "print(main.correlation_time(array))\n",
    "\n",
    "c = []\n",
    "for k in range(len(array)):\n",
    "    c += [main.time_correlation(array,k)]\n",
    "plt.plot(c)\n",
    "plt.show()"
   ]
  },
  {
   "cell_type": "markdown",
   "id": "74efc950",
   "metadata": {},
   "source": [
    "---\n",
    "---\n",
    "## Correlation time of the average over 10000 realizations\n",
    "---\n",
    "---"
   ]
  },
  {
   "cell_type": "code",
   "execution_count": 31,
   "id": "611e734e",
   "metadata": {},
   "outputs": [],
   "source": [
    "sim_data =  main.load_data_cd(protocol, data_type, topology, n, p_gen, q_swap,\n",
    "                    p_swap, p_cons, cutoff, max_links_swapped, qbits_per_channel,\n",
    "                    N_samples, total_time, randomseed)\n",
    "avg_vdegs_sim = sim_data['avg_vdegrees']\n",
    "avg_vneighs_sim = sim_data['avg_vneighs']\n",
    "std_vdegs_sim = sim_data['std_vdegrees']\n",
    "std_vneighs_sim = sim_data['std_vneighs']"
   ]
  },
  {
   "cell_type": "code",
   "execution_count": 34,
   "id": "707040da",
   "metadata": {},
   "outputs": [
    {
     "name": "stdout",
     "output_type": "stream",
     "text": [
      "185.27318283114354\n"
     ]
    },
    {
     "data": {
      "image/png": "[encoded data removed]",
      "text/plain": [
       "<Figure size 600x400 with 1 Axes>"
      ]
     },
     "metadata": {
      "needs_background": "light"
     },
     "output_type": "display_data"
    }
   ],
   "source": [
    "imp.reload(main)\n",
    "\n",
    "node = 0 # 0, 1, or 2\n",
    "\n",
    "array = avg_vneighs_sim[2]\n",
    "\n",
    "print(main.correlation_time(array))\n",
    "\n",
    "c = []\n",
    "for k in range(len(array)):\n",
    "    c += [main.time_correlation(array,k)]\n",
    "plt.plot(c)\n",
    "plt.show()"
   ]
  },
  {
   "cell_type": "code",
   "execution_count": null,
   "id": "f37de01c",
   "metadata": {},
   "outputs": [],
   "source": []
  },
  {
   "cell_type": "code",
   "execution_count": null,
   "id": "022575af",
   "metadata": {},
   "outputs": [],
   "source": []
  },
  {
   "cell_type": "code",
   "execution_count": null,
   "id": "b5222fef",
   "metadata": {},
   "outputs": [],
   "source": []
  },
  {
   "cell_type": "code",
   "execution_count": null,
   "id": "e8eb3214",
   "metadata": {},
   "outputs": [],
   "source": []
  },
  {
   "cell_type": "code",
   "execution_count": null,
   "id": "db231e91",
   "metadata": {},
   "outputs": [],
   "source": []
  },
  {
   "cell_type": "code",
   "execution_count": null,
   "id": "73ae7dc2",
   "metadata": {},
   "outputs": [],
   "source": []
  }
 ],
 "metadata": {
  "kernelspec": {
   "display_name": "Python 3",
   "language": "python",
   "name": "python3"
  },
  "language_info": {
   "codemirror_mode": {
    "name": "ipython",
    "version": 3
   },
   "file_extension": ".py",
   "mimetype": "text/x-python",
   "name": "python",
   "nbconvert_exporter": "python",
   "pygments_lexer": "ipython3",
   "version": "3.8.8"
  }
 },
 "nbformat": 4,
 "nbformat_minor": 5
}
