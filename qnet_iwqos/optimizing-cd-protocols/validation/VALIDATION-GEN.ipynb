{
 "cells": [
  {
   "cell_type": "markdown",
   "id": "d76e749a",
   "metadata": {},
   "source": [
    "# Validation of entanglement generation functions"
   ]
  },
  {
   "cell_type": "code",
   "execution_count": 1,
   "id": "b1f8e3f7",
   "metadata": {},
   "outputs": [],
   "source": [
    "import numpy as np\n",
    "import numpy.matlib as npm\n",
    "import json\n",
    "import matplotlib.pyplot as plt\n",
    "from matplotlib import rc\n",
    "import copy\n",
    "import warnings\n",
    "import scipy\n",
    "from scipy import sparse\n",
    "from tqdm.notebook import tqdm\n",
    "import importlib as imp\n",
    "import random\n",
    "\n",
    "import main_cd as main\n",
    "import main_cd_plots as pltm"
   ]
  },
  {
   "cell_type": "markdown",
   "id": "fea37dce",
   "metadata": {},
   "source": [
    "---\n",
    "\n",
    "# Physical network"
   ]
  },
  {
   "cell_type": "code",
   "execution_count": 2,
   "id": "646bbc48",
   "metadata": {},
   "outputs": [
    {
     "name": "stdout",
     "output_type": "stream",
     "text": [
      "[[0. 1. 0. 0.]\n",
      " [1. 0. 1. 0.]\n",
      " [0. 1. 0. 1.]\n",
      " [0. 0. 1. 0.]]\n",
      "[[0. 1. 1. 1. 0. 0. 1. 0. 0.]\n",
      " [1. 0. 1. 0. 1. 0. 0. 1. 0.]\n",
      " [1. 1. 0. 0. 0. 1. 0. 0. 1.]\n",
      " [1. 0. 0. 0. 1. 1. 1. 0. 0.]\n",
      " [0. 1. 0. 1. 0. 1. 0. 1. 0.]\n",
      " [0. 0. 1. 1. 1. 0. 0. 0. 1.]\n",
      " [1. 0. 0. 1. 0. 0. 0. 1. 1.]\n",
      " [0. 1. 0. 0. 1. 0. 1. 0. 1.]\n",
      " [0. 0. 1. 0. 0. 1. 1. 1. 0.]]\n"
     ]
    }
   ],
   "source": [
    "imp.reload(main)\n",
    "\n",
    "# Build adjacency matrix repeater chain\n",
    "n = 4 # Number of nodes in the chain\n",
    "A_chain = main.adjacency_chain(n)\n",
    "\n",
    "# Build adjacency matrix squared grid\n",
    "l = 3 # Number of nodes per side of the squared grid\n",
    "A_grid = main.adjacency_squared(l)\n",
    "\n",
    "print(A_chain)\n",
    "print(A_grid)"
   ]
  },
  {
   "cell_type": "markdown",
   "id": "0b9b0bb0",
   "metadata": {},
   "source": [
    "---\n",
    "\n",
    "# GEN in a repeater chain"
   ]
  },
  {
   "cell_type": "code",
   "execution_count": 3,
   "id": "4e707f2f",
   "metadata": {
    "scrolled": true
   },
   "outputs": [],
   "source": [
    "# Inputs\n",
    "p = 1\n",
    "r = 2\n",
    "\n",
    "# Seed\n",
    "randomseed = 2\n",
    "np.random.seed(randomseed)"
   ]
  },
  {
   "cell_type": "code",
   "execution_count": 4,
   "id": "d247d65d",
   "metadata": {
    "scrolled": true
   },
   "outputs": [
    {
     "name": "stdout",
     "output_type": "stream",
     "text": [
      "[0.0, [None, None], 0.0, 0.0]\n",
      "[[None, None], 0.0, [None, None], 0.0]\n",
      "[0.0, [None, None], 0.0, [None, None]]\n",
      "[0.0, 0.0, [None, None], 0.0]\n"
     ]
    }
   ],
   "source": [
    "# Create qubit register\n",
    "imp.reload(main)\n",
    "\n",
    "registers = main.create_qubit_registers(A_chain, r)\n",
    "\n",
    "for i in range(len(registers)):\n",
    "    print(registers[i])"
   ]
  },
  {
   "cell_type": "code",
   "execution_count": 5,
   "id": "316f2de0",
   "metadata": {},
   "outputs": [
    {
     "name": "stdout",
     "output_type": "stream",
     "text": [
      "[0.0, [[0, 0, [1, 0, 0]], None], 0.0, 0.0]\n",
      "[[[0, 0, [0, 1, 0]], None], 0.0, [[0, 0, [2, 1, 0]], None], 0.0]\n",
      "[0.0, [[0, 0, [1, 2, 0]], None], 0.0, [[0, 0, [3, 2, 0]], None]]\n",
      "[0.0, 0.0, [[0, 0, [2, 3, 0]], None], 0.0]\n",
      "0 (0, 1, 0) (1, 0, 0)\n",
      "0 (1, 2, 0) (2, 1, 0)\n",
      "0 (2, 3, 0) (3, 2, 0)\n"
     ]
    },
    {
     "data": {
      "image/png": "[encoded data removed]",
      "text/plain": [
       "<Figure size 432x288 with 1 Axes>"
      ]
     },
     "metadata": {},
     "output_type": "display_data"
    }
   ],
   "source": [
    "# GEN\n",
    "imp.reload(main)\n",
    "imp.reload(pltm)\n",
    "\n",
    "registers = main.generate_all_links(registers, p)\n",
    "\n",
    "for i in range(len(registers)):\n",
    "    print(registers[i])\n",
    "    \n",
    "pltm.plot_entangled_links(registers, layout='chain', show_link_data=True)"
   ]
  },
  {
   "cell_type": "markdown",
   "id": "14cc49fc",
   "metadata": {},
   "source": [
    "---\n",
    "\n",
    "# GEN in a squared grid"
   ]
  },
  {
   "cell_type": "code",
   "execution_count": 18,
   "id": "92a49cbf",
   "metadata": {
    "scrolled": true
   },
   "outputs": [],
   "source": [
    "# Inputs\n",
    "p = 1\n",
    "r = 2\n",
    "\n",
    "# Seed\n",
    "randomseed = 2\n",
    "np.random.seed(randomseed)"
   ]
  },
  {
   "cell_type": "code",
   "execution_count": 19,
   "id": "80af4881",
   "metadata": {
    "scrolled": true
   },
   "outputs": [
    {
     "name": "stdout",
     "output_type": "stream",
     "text": [
      "[0.0, [None, None], [None, None], [None, None], 0.0, 0.0, [None, None], 0.0, 0.0]\n",
      "[[None, None], 0.0, [None, None], 0.0, [None, None], 0.0, 0.0, [None, None], 0.0]\n",
      "[[None, None], [None, None], 0.0, 0.0, 0.0, [None, None], 0.0, 0.0, [None, None]]\n",
      "[[None, None], 0.0, 0.0, 0.0, [None, None], [None, None], [None, None], 0.0, 0.0]\n",
      "[0.0, [None, None], 0.0, [None, None], 0.0, [None, None], 0.0, [None, None], 0.0]\n",
      "[0.0, 0.0, [None, None], [None, None], [None, None], 0.0, 0.0, 0.0, [None, None]]\n",
      "[[None, None], 0.0, 0.0, [None, None], 0.0, 0.0, 0.0, [None, None], [None, None]]\n",
      "[0.0, [None, None], 0.0, 0.0, [None, None], 0.0, [None, None], 0.0, [None, None]]\n",
      "[0.0, 0.0, [None, None], 0.0, 0.0, [None, None], [None, None], [None, None], 0.0]\n"
     ]
    }
   ],
   "source": [
    "# Create qubit register\n",
    "imp.reload(main)\n",
    "\n",
    "registers = main.create_qubit_registers(A_grid, r)\n",
    "\n",
    "for i in range(len(registers)):\n",
    "    print(registers[i])"
   ]
  },
  {
   "cell_type": "code",
   "execution_count": 42,
   "id": "7a8b8185",
   "metadata": {},
   "outputs": [
    {
     "data": {
      "image/png": "[encoded data removed]",
      "text/plain": [
       "<Figure size 432x288 with 1 Axes>"
      ]
     },
     "metadata": {},
     "output_type": "display_data"
    }
   ],
   "source": [
    "# GEN\n",
    "imp.reload(main)\n",
    "imp.reload(pltm)\n",
    "\n",
    "registers = main.generate_all_links(registers, p)\n",
    "\n",
    "#for i in range(len(registers)):\n",
    "#    print(registers[i])\n",
    "    \n",
    "pltm.plot_entangled_links(registers, layout='squared', show_link_data=False)"
   ]
  },
  {
   "cell_type": "markdown",
   "id": "f684d4c1",
   "metadata": {},
   "source": [
    "---\n",
    "\n",
    "# Statistical behavior"
   ]
  },
  {
   "cell_type": "markdown",
   "id": "c971a933",
   "metadata": {},
   "source": [
    "Here, we check that the ratio of links generated on average equals $p$."
   ]
  },
  {
   "cell_type": "code",
   "execution_count": 79,
   "id": "a51bf603",
   "metadata": {
    "scrolled": true
   },
   "outputs": [],
   "source": [
    "# Inputs\n",
    "p_array = np.arange(0,1,0.1)\n",
    "n = 4\n",
    "l = 4\n",
    "r = 2 # This is irrelevant for this test\n",
    "\n",
    "# Numerical\n",
    "N_samples = 10000\n",
    "randomseed = 2\n",
    "np.random.seed(randomseed)"
   ]
  },
  {
   "cell_type": "code",
   "execution_count": 80,
   "id": "60e0ec22",
   "metadata": {
    "scrolled": true
   },
   "outputs": [
    {
     "name": "stdout",
     "output_type": "stream",
     "text": [
      "0.00 (0.00)\n",
      "0.10 (0.00)\n",
      "0.20 (0.00)\n",
      "0.30 (0.01)\n",
      "0.40 (0.01)\n",
      "0.50 (0.01)\n",
      "0.59 (0.01)\n",
      "0.70 (0.01)\n",
      "0.80 (0.00)\n",
      "0.90 (0.00)\n"
     ]
    }
   ],
   "source": [
    "## Repeater chain ##\n",
    "imp.reload(main)\n",
    "\n",
    "A_chain = main.adjacency_chain(n)\n",
    "\n",
    "for p in p_array:\n",
    "    # Number of physical links\n",
    "    total_physical_links = n-1\n",
    "\n",
    "    # Calculate ratio of links generated on average\n",
    "    ratio_links = []\n",
    "    for sample in range(N_samples):\n",
    "        registers = main.create_qubit_registers(A_chain, r)\n",
    "        registers = main.generate_all_links(registers, p)\n",
    "        ratio_links += [main.total_qubits_occupied(registers)/2/total_physical_links]\n",
    "\n",
    "    # Average ratio of links generated\n",
    "    ratio_links_avg = np.mean(ratio_links)\n",
    "\n",
    "    # Print 95% interval of confidence for the mean\n",
    "    ratio_links_stderr = np.std(ratio_links)/(N_samples**0.5)\n",
    "    print('%.2f (%.2f)'%(ratio_links_avg,2*ratio_links_stderr))"
   ]
  },
  {
   "cell_type": "code",
   "execution_count": 82,
   "id": "2ca4cd36",
   "metadata": {
    "scrolled": true
   },
   "outputs": [
    {
     "name": "stdout",
     "output_type": "stream",
     "text": [
      "0.00 (0.00)\n",
      "0.10 (0.00)\n",
      "0.20 (0.00)\n",
      "0.30 (0.00)\n",
      "0.40 (0.00)\n",
      "0.50 (0.00)\n",
      "0.60 (0.00)\n",
      "0.70 (0.00)\n",
      "0.80 (0.00)\n",
      "0.90 (0.00)\n"
     ]
    }
   ],
   "source": [
    "## Repeater chain ##\n",
    "imp.reload(main)\n",
    "\n",
    "A_grid = main.adjacency_squared(l)\n",
    "\n",
    "for p in p_array:\n",
    "    # Number of physical links\n",
    "    total_physical_links = 2*l*l\n",
    "\n",
    "    # Calculate ratio of links generated on average\n",
    "    ratio_links = []\n",
    "    for sample in range(N_samples):\n",
    "        registers = main.create_qubit_registers(A_grid, r)\n",
    "        registers = main.generate_all_links(registers, p)\n",
    "        ratio_links += [main.total_qubits_occupied(registers)/2/total_physical_links]\n",
    "\n",
    "    # Average ratio of links generated\n",
    "    ratio_links_avg = np.mean(ratio_links)\n",
    "\n",
    "    # Print 95% interval of confidence for the mean\n",
    "    ratio_links_stderr = np.std(ratio_links)/(N_samples**0.5)\n",
    "    print('%.2f (%.2f)'%(ratio_links_avg,2*ratio_links_stderr))"
   ]
  }
 ],
 "metadata": {
  "kernelspec": {
   "display_name": "Python 3",
   "language": "python",
   "name": "python3"
  },
  "language_info": {
   "codemirror_mode": {
    "name": "ipython",
    "version": 3
   },
   "file_extension": ".py",
   "mimetype": "text/x-python",
   "name": "python",
   "nbconvert_exporter": "python",
   "pygments_lexer": "ipython3",
   "version": "3.8.8"
  }
 },
 "nbformat": 4,
 "nbformat_minor": 5
}
