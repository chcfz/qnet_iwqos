{
 "cells": [
  {
   "cell_type": "markdown",
   "id": "d76e749a",
   "metadata": {},
   "source": [
    "# Validation of swaps"
   ]
  },
  {
   "cell_type": "code",
   "execution_count": 1,
   "id": "b1f8e3f7",
   "metadata": {},
   "outputs": [],
   "source": [
    "import numpy as np\n",
    "import numpy.matlib as npm\n",
    "import json\n",
    "import matplotlib.pyplot as plt\n",
    "from matplotlib import rc\n",
    "import copy\n",
    "import warnings\n",
    "import scipy\n",
    "from scipy import sparse\n",
    "from tqdm.notebook import tqdm\n",
    "import importlib as imp\n",
    "import random\n",
    "\n",
    "import main_cd as main\n",
    "import main_cd_plots as pltm"
   ]
  },
  {
   "cell_type": "markdown",
   "id": "0b9b0bb0",
   "metadata": {},
   "source": [
    "---\n",
    "\n",
    "# SWAP operation"
   ]
  },
  {
   "cell_type": "markdown",
   "id": "95cd5b5e",
   "metadata": {},
   "source": [
    "In this test, we check that swaps fail with probability $p_\\mathrm{s}$."
   ]
  },
  {
   "cell_type": "code",
   "execution_count": 79,
   "id": "4e707f2f",
   "metadata": {
    "scrolled": false
   },
   "outputs": [
    {
     "data": {
      "image/png": "[encoded data removed]",
      "text/plain": [
       "<Figure size 432x288 with 1 Axes>"
      ]
     },
     "metadata": {},
     "output_type": "display_data"
    },
    {
     "data": {
      "image/png": "[encoded data removed]",
      "text/plain": [
       "<Figure size 432x288 with 1 Axes>"
      ]
     },
     "metadata": {},
     "output_type": "display_data"
    }
   ],
   "source": [
    "# Inputs\n",
    "n = 4\n",
    "p = 1\n",
    "ps = 1\n",
    "r = 2\n",
    "\n",
    "# Swap\n",
    "qubit_id1 = [1,0,0]\n",
    "#qubit_id2 = [2,1,0] # Error: different nodes\n",
    "#qubit_id2 = [1,0,0] # Error: same physical channel\n",
    "#qubit_id2 = [1,1,0] # Error: no physical channel\n",
    "qubit_id2 = [1,2,0]\n",
    "\n",
    "# Topology\n",
    "A = main.adjacency_chain(n)\n",
    "layout = 'chain'\n",
    "\n",
    "# Numerical\n",
    "randomseed = 2\n",
    "\n",
    "\n",
    "### SMALL TEST ###\n",
    "np.random.seed(randomseed)\n",
    "imp.reload(main)\n",
    "imp.reload(pltm)\n",
    "\n",
    "registers = main.create_qubit_registers(A, r)\n",
    "\n",
    "# Generate as many entangled links as possible\n",
    "for _ in range(r):\n",
    "    registers = main.generate_all_links(registers, p)\n",
    "pltm.plot_entangled_links(registers, layout=layout)\n",
    "registers = main.swap(registers, qubit_id1, qubit_id2, ps)\n",
    "pltm.plot_entangled_links(registers, layout=layout)"
   ]
  },
  {
   "cell_type": "code",
   "execution_count": 77,
   "id": "f8f7529b",
   "metadata": {
    "scrolled": true
   },
   "outputs": [
    {
     "name": "stdout",
     "output_type": "stream",
     "text": [
      "Prob. successful swap (theory): 0.790\n",
      "Rate successful swaps (experiment): 0.796 (0.008)\n"
     ]
    }
   ],
   "source": [
    "# Inputs\n",
    "n = 4\n",
    "p = 1\n",
    "r = 2\n",
    "ps = 0.79\n",
    "\n",
    "# Topology\n",
    "A = main.adjacency_chain(n)\n",
    "layout = 'chain'\n",
    "\n",
    "# Swap\n",
    "qubit_id1 = [1,0,0]\n",
    "qubit_id2 = [1,2,0]\n",
    "\n",
    "# Numerical\n",
    "randomseed = 2\n",
    "N_samples = 10000\n",
    "\n",
    "\n",
    "### SMALL TEST ###\n",
    "np.random.seed(randomseed)\n",
    "imp.reload(main)\n",
    "imp.reload(pltm)\n",
    "\n",
    "swaps_success = []\n",
    "total_links = (n-1)*r\n",
    "for _ in range(N_samples):\n",
    "    registers = main.create_qubit_registers(A, r)\n",
    "    # Generate as many entangled links as possible\n",
    "    for _ in range(r):\n",
    "        registers = main.generate_all_links(registers, p)\n",
    "    registers = main.swap(registers, qubit_id1, qubit_id2, ps)\n",
    "    registers = main.cutoffs(registers, 100)\n",
    "    links_after_swap = main.total_qubits_occupied(registers)/2\n",
    "    if links_after_swap<total_links-1:\n",
    "        swaps_success += [0]\n",
    "    else:\n",
    "        swaps_success += [1]\n",
    "\n",
    "print('Prob. successful swap (theory): %.3f'%ps)\n",
    "# Print 95% interval of confidence\n",
    "avg_success = np.mean(swaps_success)\n",
    "stderr_success = np.std(swaps_success)/(N_samples**0.5)\n",
    "print('Rate successful swaps (experiment): %.3f (%.3f)'%(avg_success, 2*stderr_success))"
   ]
  },
  {
   "cell_type": "markdown",
   "id": "a4fea13c",
   "metadata": {},
   "source": [
    "---\n",
    "\n",
    "# Several SWAPs in a row"
   ]
  },
  {
   "cell_type": "code",
   "execution_count": 164,
   "id": "7e6b4bf9",
   "metadata": {
    "scrolled": false
   },
   "outputs": [
    {
     "data": {
      "image/png": "[encoded data removed]",
      "text/plain": [
       "<Figure size 432x288 with 1 Axes>"
      ]
     },
     "metadata": {},
     "output_type": "display_data"
    },
    {
     "data": {
      "image/png": "[encoded data removed]",
      "text/plain": [
       "<Figure size 432x288 with 1 Axes>"
      ]
     },
     "metadata": {},
     "output_type": "display_data"
    }
   ],
   "source": [
    "# Inputs\n",
    "n = 5\n",
    "p = 1\n",
    "ps = 1\n",
    "r = 2\n",
    "\n",
    "# Swap 1\n",
    "qubit_id1 = [1,0,0]\n",
    "qubit_id2 = [1,2,0]\n",
    "\n",
    "# Swap 2\n",
    "qubit_id3 = [2,1,0]\n",
    "qubit_id4 = [2,3,0]\n",
    "\n",
    "# Swap 3\n",
    "qubit_id5 = [3,2,1]\n",
    "qubit_id6 = [3,4,1]\n",
    "\n",
    "# Topology\n",
    "A = main.adjacency_chain(n)\n",
    "layout = 'chain'\n",
    "\n",
    "# Numerical\n",
    "randomseed = 2\n",
    "\n",
    "\n",
    "### SMALL TEST ###\n",
    "np.random.seed(randomseed)\n",
    "imp.reload(main)\n",
    "imp.reload(pltm)\n",
    "\n",
    "registers = main.create_qubit_registers(A, r)\n",
    "\n",
    "# Generate as many entangled links as possible\n",
    "for _ in range(r):\n",
    "    registers = main.generate_all_links(registers, p)\n",
    "pltm.plot_entangled_links(registers, layout=layout)\n",
    "registers = main.swap(registers, qubit_id1, qubit_id2, ps)\n",
    "registers = main.swap(registers, qubit_id3, qubit_id4, ps)\n",
    "registers = main.swap(registers, qubit_id5, qubit_id6, ps)\n",
    "pltm.plot_entangled_links(registers, layout=layout)"
   ]
  },
  {
   "cell_type": "code",
   "execution_count": 170,
   "id": "c3cc3881",
   "metadata": {
    "scrolled": true
   },
   "outputs": [
    {
     "name": "stdout",
     "output_type": "stream",
     "text": [
      "Prob. all swaps successful (theory): 0.706\n",
      "Rate successful swaps (experiment): 0.700 (0.009)\n"
     ]
    }
   ],
   "source": [
    "# Inputs\n",
    "n = 4\n",
    "p = 1\n",
    "r = 2\n",
    "ps = 0.84\n",
    "\n",
    "# Topology\n",
    "A = main.adjacency_chain(n)\n",
    "layout = 'chain'\n",
    "\n",
    "# Swap 1\n",
    "qubit_id1 = [1,0,0]\n",
    "qubit_id2 = [1,2,0]\n",
    "\n",
    "# Swap 2\n",
    "qubit_id3 = [2,1,0]\n",
    "qubit_id4 = [2,3,0]\n",
    "\n",
    "# Numerical\n",
    "randomseed = 2\n",
    "N_samples = 10000\n",
    "\n",
    "\n",
    "### SMALL TEST ###\n",
    "np.random.seed(randomseed)\n",
    "imp.reload(main)\n",
    "imp.reload(pltm)\n",
    "\n",
    "all_swaps_success = []\n",
    "for _ in range(N_samples):\n",
    "    registers = main.create_qubit_registers(A, r)\n",
    "    # Generate as many entangled links as possible\n",
    "    for _ in range(r):\n",
    "        registers = main.generate_all_links(registers, p)\n",
    "    registers = main.swap(registers, qubit_id1, qubit_id2, ps)\n",
    "    registers = main.swap(registers, qubit_id3, qubit_id4, ps)\n",
    "    registers = main.cutoffs(registers, 100)\n",
    "    links_after_swap = main.total_qubits_occupied(registers)/2\n",
    "    if links_after_swap == 4:\n",
    "        all_swaps_success += [1]\n",
    "    else:\n",
    "        all_swaps_success += [0]\n",
    "\n",
    "print('Prob. all swaps successful (theory): %.3f'%(ps**2))\n",
    "# Print 95% interval of confidence\n",
    "avg_success = np.mean(all_swaps_success)\n",
    "stderr_success = np.std(all_swaps_success)/(N_samples**0.5)\n",
    "print('Rate successful swaps (experiment): %.3f (%.3f)'%(avg_success, 2*stderr_success))"
   ]
  }
 ],
 "metadata": {
  "kernelspec": {
   "display_name": "Python 3",
   "language": "python",
   "name": "python3"
  },
  "language_info": {
   "codemirror_mode": {
    "name": "ipython",
    "version": 3
   },
   "file_extension": ".py",
   "mimetype": "text/x-python",
   "name": "python",
   "nbconvert_exporter": "python",
   "pygments_lexer": "ipython3",
   "version": "3.8.8"
  }
 },
 "nbformat": 4,
 "nbformat_minor": 5
}
