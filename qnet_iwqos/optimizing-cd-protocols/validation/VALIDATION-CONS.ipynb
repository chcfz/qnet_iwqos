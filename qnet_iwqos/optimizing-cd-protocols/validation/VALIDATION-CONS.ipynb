{
 "cells": [
  {
   "cell_type": "markdown",
   "id": "d76e749a",
   "metadata": {},
   "source": [
    "# Validation of link consumption"
   ]
  },
  {
   "cell_type": "code",
   "execution_count": 54,
   "id": "b1f8e3f7",
   "metadata": {},
   "outputs": [],
   "source": [
    "import numpy as np\n",
    "import numpy.matlib as npm\n",
    "import json\n",
    "import matplotlib.pyplot as plt\n",
    "from matplotlib import rc\n",
    "import copy\n",
    "import warnings\n",
    "import scipy\n",
    "from scipy import sparse\n",
    "from tqdm.notebook import tqdm\n",
    "import importlib as imp\n",
    "import random\n",
    "\n",
    "import main_cd as main\n",
    "import main_cd_plots as pltm"
   ]
  },
  {
   "cell_type": "markdown",
   "id": "0b9b0bb0",
   "metadata": {},
   "source": [
    "---\n",
    "\n",
    "# CONS in a repeater chain"
   ]
  },
  {
   "cell_type": "markdown",
   "id": "95cd5b5e",
   "metadata": {},
   "source": [
    "In this test, we generate as many entangled links as possible (limited only by $r$). Then, we apply consumption and we check if the number of links consumed per pair of neighbors ...\n",
    " - ... matches the consumption rate, if the rate is an integer.\n",
    " - ... matches the consumption rate on average, otherwise."
   ]
  },
  {
   "cell_type": "code",
   "execution_count": 55,
   "id": "4e707f2f",
   "metadata": {
    "scrolled": false
   },
   "outputs": [
    {
     "data": {
      "image/png": "[encoded data removed]",
      "text/plain": [
       "<Figure size 432x288 with 1 Axes>"
      ]
     },
     "metadata": {},
     "output_type": "display_data"
    },
    {
     "data": {
      "image/png": "[encoded data removed]",
      "text/plain": [
       "<Figure size 432x288 with 1 Axes>"
      ]
     },
     "metadata": {},
     "output_type": "display_data"
    }
   ],
   "source": [
    "# Inputs\n",
    "n = 4\n",
    "p = 1\n",
    "r = 3\n",
    "cons_rate = 0.6\n",
    "\n",
    "# Topology\n",
    "A = main.adjacency_chain(n)\n",
    "layout = 'chain'\n",
    "\n",
    "# Numerical\n",
    "randomseed = 2\n",
    "N_samples = 10000\n",
    "\n",
    "\n",
    "### SMALL TEST ###\n",
    "np.random.seed(randomseed)\n",
    "imp.reload(main)\n",
    "imp.reload(pltm)\n",
    "\n",
    "registers = main.create_qubit_registers(A, r)\n",
    "\n",
    "# Generate as many entangled links as possible\n",
    "for _ in range(r):\n",
    "    registers = main.generate_all_links(registers, p)\n",
    "pltm.plot_entangled_links(registers, layout=layout)\n",
    "registers = main.consume_fixed_rate(registers, cons_rate)\n",
    "pltm.plot_entangled_links(registers, layout=layout)"
   ]
  },
  {
   "cell_type": "code",
   "execution_count": 56,
   "id": "f8f7529b",
   "metadata": {
    "scrolled": true
   },
   "outputs": [
    {
     "name": "stdout",
     "output_type": "stream",
     "text": [
      "Avg number of links consumed (theory): 16.250\n",
      "Avg number of links consumed (experiment): 16.252 (0.019)\n"
     ]
    }
   ],
   "source": [
    "# Inputs\n",
    "n = 6\n",
    "p = 1\n",
    "r = 6\n",
    "cons_rate = 3.25\n",
    "\n",
    "# Topology\n",
    "A = main.adjacency_chain(n)\n",
    "layout = 'chain'\n",
    "\n",
    "# Numerical\n",
    "randomseed = 2\n",
    "N_samples = 10000\n",
    "\n",
    "\n",
    "### SMALL TEST ###\n",
    "np.random.seed(randomseed)\n",
    "imp.reload(main)\n",
    "imp.reload(pltm)\n",
    "\n",
    "# Theoretical average number of links consumed\n",
    "# in a repeater chain with no swaps:\n",
    "total_physical_links = n-1\n",
    "avg_links_consumed_theory = cons_rate*total_physical_links\n",
    "\n",
    "links_consumed = []\n",
    "for _ in range(N_samples):\n",
    "    registers = main.create_qubit_registers(A, r)\n",
    "    # Generate as many entangled links as possible\n",
    "    for _ in range(r):\n",
    "        registers = main.generate_all_links(registers, p)\n",
    "    total_links = main.total_qubits_occupied(registers)/2\n",
    "    registers = main.consume_fixed_rate(registers, cons_rate)\n",
    "    links_consumed += [total_links - main.total_qubits_occupied(registers)/2]\n",
    "\n",
    "avg_links_consumed = np.mean(links_consumed)\n",
    "stderr_links_consumed = np.std(links_consumed)/(N_samples**0.5)\n",
    "print('Avg number of links consumed (theory): %.3f'%avg_links_consumed_theory)\n",
    "# Print 95% interval of confidence for the mean\n",
    "print('Avg number of links consumed (experiment): %.3f (%.3f)'%(avg_links_consumed,\n",
    "                                                               2*stderr_links_consumed))"
   ]
  },
  {
   "cell_type": "markdown",
   "id": "413371fc",
   "metadata": {},
   "source": [
    "---\n",
    "\n",
    "# CONS in a squared grid"
   ]
  },
  {
   "cell_type": "markdown",
   "id": "7fce4a79",
   "metadata": {},
   "source": [
    "In this test, we generate as many entangled links as possible (limited only by $r$). Then, we apply consumption and we check if the number of links consumed per pair of neighbors ...\n",
    " - ... matches the consumption rate, if the rate is an integer.\n",
    " - ... matches the consumption rate on average, otherwise."
   ]
  },
  {
   "cell_type": "code",
   "execution_count": 57,
   "id": "915e3897",
   "metadata": {
    "scrolled": true
   },
   "outputs": [
    {
     "data": {
      "image/png": "[encoded data removed]",
      "text/plain": [
       "<Figure size 432x288 with 1 Axes>"
      ]
     },
     "metadata": {},
     "output_type": "display_data"
    },
    {
     "data": {
      "image/png": "[encoded data removed]",
      "text/plain": [
       "<Figure size 432x288 with 1 Axes>"
      ]
     },
     "metadata": {},
     "output_type": "display_data"
    }
   ],
   "source": [
    "# Inputs\n",
    "n = 3\n",
    "p = 1\n",
    "r = 1\n",
    "cons_rate = 0.5\n",
    "\n",
    "# Topology\n",
    "A = main.adjacency_squared(n)\n",
    "layout = 'squared'\n",
    "\n",
    "# Numerical\n",
    "randomseed = 2\n",
    "N_samples = 10000\n",
    "\n",
    "\n",
    "### SMALL TEST ###\n",
    "np.random.seed(randomseed)\n",
    "imp.reload(main)\n",
    "imp.reload(pltm)\n",
    "\n",
    "registers = main.create_qubit_registers(A, r)\n",
    "\n",
    "# Generate as many entangled links as possible\n",
    "for _ in range(r):\n",
    "    registers = main.generate_all_links(registers, p)\n",
    "pltm.plot_entangled_links(registers, layout=layout)\n",
    "registers = main.consume_fixed_rate(registers, cons_rate)\n",
    "pltm.plot_entangled_links(registers, layout=layout)"
   ]
  },
  {
   "cell_type": "code",
   "execution_count": 58,
   "id": "daf6426d",
   "metadata": {
    "scrolled": true
   },
   "outputs": [
    {
     "name": "stdout",
     "output_type": "stream",
     "text": [
      "Avg number of links consumed (theory): 14.040\n",
      "Avg number of links consumed (experiment): 14.041 (0.035)\n"
     ]
    }
   ],
   "source": [
    "# Inputs\n",
    "n = 3\n",
    "p = 1\n",
    "r = 10\n",
    "cons_rate = 0.78\n",
    "\n",
    "# Topology\n",
    "A = main.adjacency_squared(n)\n",
    "layout = 'squared'\n",
    "\n",
    "# Numerical\n",
    "randomseed = 2\n",
    "N_samples = 10000\n",
    "\n",
    "\n",
    "### SMALL TEST ###\n",
    "np.random.seed(randomseed)\n",
    "imp.reload(main)\n",
    "imp.reload(pltm)\n",
    "\n",
    "# Theoretical average number of links consumed\n",
    "# in a repeater chain with no swaps:\n",
    "total_physical_links = 2*n*n\n",
    "avg_links_consumed_theory = cons_rate*total_physical_links\n",
    "\n",
    "links_consumed = []\n",
    "for _ in range(N_samples):\n",
    "    registers = main.create_qubit_registers(A, r)\n",
    "    # Generate as many entangled links as possible\n",
    "    for _ in range(r):\n",
    "        registers = main.generate_all_links(registers, p)\n",
    "    total_links = main.total_qubits_occupied(registers)/2\n",
    "    registers = main.consume_fixed_rate(registers, cons_rate)\n",
    "    links_consumed += [total_links - main.total_qubits_occupied(registers)/2]\n",
    "\n",
    "avg_links_consumed = np.mean(links_consumed)\n",
    "stderr_links_consumed = np.std(links_consumed)/(N_samples**0.5)\n",
    "print('Avg number of links consumed (theory): %.3f'%avg_links_consumed_theory)\n",
    "# Print 95% interval of confidence for the mean\n",
    "print('Avg number of links consumed (experiment): %.3f (%.3f)'%(avg_links_consumed,\n",
    "                                                               2*stderr_links_consumed))"
   ]
  }
 ],
 "metadata": {
  "kernelspec": {
   "display_name": "Python 3",
   "language": "python",
   "name": "python3"
  },
  "language_info": {
   "codemirror_mode": {
    "name": "ipython",
    "version": 3
   },
   "file_extension": ".py",
   "mimetype": "text/x-python",
   "name": "python",
   "nbconvert_exporter": "python",
   "pygments_lexer": "ipython3",
   "version": "3.8.8"
  }
 },
 "nbformat": 4,
 "nbformat_minor": 5
}
