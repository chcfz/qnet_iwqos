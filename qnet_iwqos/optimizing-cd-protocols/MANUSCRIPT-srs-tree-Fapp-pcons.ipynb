{
 "cells": [
  {
   "cell_type": "markdown",
   "id": "d76e749a",
   "metadata": {},
   "source": [
    "# Maximum $v_i$ versus $F_\\mathrm{app}$ and $p_\\mathrm{cons}$"
   ]
  },
  {
   "cell_type": "markdown",
   "id": "ecbf5474",
   "metadata": {},
   "source": [
    " - We analyze the Single Random Swap (SRS) protocol.\n",
    " - The network topology is a ($d$,$k$)-tree. In particular, the results shown here correspond to a ($2$,$3$)-tree. This can also be viewed as a dumbbell network."
   ]
  },
  {
   "cell_type": "markdown",
   "id": "9450f830",
   "metadata": {},
   "source": [
    "Here, we only look at the users (lowest-level nodes in the tree)."
   ]
  },
  {
   "cell_type": "code",
   "execution_count": 2,
   "id": "b1f8e3f7",
   "metadata": {},
   "outputs": [],
   "source": [
    "import numpy as np\n",
    "import numpy.matlib as npm\n",
    "import json\n",
    "import matplotlib.pyplot as plt\n",
    "from matplotlib import rc\n",
    "import copy\n",
    "import warnings\n",
    "import scipy\n",
    "from scipy import sparse\n",
    "from tqdm import tqdm\n",
    "from tqdm.notebook import tqdm as tqdmn\n",
    "import importlib as imp\n",
    "import os\n",
    "import random\n",
    "\n",
    "import main_cd as main\n",
    "import main_cd_plots as pltm\n",
    "import validation_tests as tests\n",
    "\n",
    "# Dark background?\n",
    "dark = False\n",
    "if dark==True:\n",
    "    plt.style.use('dark_background')\n",
    "else:\n",
    "    plt.style.use('default')\n",
    "    \n",
    "# Latex\n",
    "from matplotlib import rc\n",
    "#rc('text', usetex=False)\n",
    "#plt.rcParams.update({\n",
    "#    'text.usetex': False,\n",
    "#    'text.latex.preamble': r'\\usepackage{amsfonts}'\n",
    "#})\n",
    "\n",
    "# Save figures in the notebook with decent quality\n",
    "%matplotlib inline\n",
    "import matplotlib as mpl\n",
    "mpl.rcParams['figure.dpi']= 100\n",
    "\n",
    "# Create figures directory if needed\n",
    "try:\n",
    "    os.mkdir('figs')\n",
    "except FileExistsError:\n",
    "    pass"
   ]
  },
  {
   "cell_type": "code",
   "execution_count": 3,
   "id": "e4d62a42",
   "metadata": {},
   "outputs": [],
   "source": [
    "imp.reload(main)\n",
    "\n",
    "# Topology\n",
    "protocol = 'srs'\n",
    "d = 2\n",
    "k = 3\n",
    "n = int(str(d)+str(k)) # This variable is only for data storage purposes\n",
    "A = main.adjacency_tree(d,k)\n",
    "topology = 'tree'\n",
    "\n",
    "\n",
    "# Hardware\n",
    "p_gen = 0.9\n",
    "p_swap = 1\n",
    "qbits_per_channel = 5\n",
    "coherence_time = 2000\n",
    "\n",
    "\n",
    "# Software/application\n",
    "q_swap_vec = np.arange(0,1.01,0.02) #np.append( np.arange(0,0.5,0.01), np.arange(0.5,1.01,0.05) )\n",
    "max_links_swapped = 4\n",
    "p_cons = 0.225\n",
    "\n",
    "\n",
    "# Cutoff calculation\n",
    "F_new = 0.95\n",
    "\n",
    "\n",
    "# Simulation\n",
    "data_type = 'avg'\n",
    "N_samples = 10000\n",
    "tolerance = 1e-2\n",
    "steady_state_window = None  # NOTE: steady state finder is disabled\n",
    "                            # to speed up the calculations.\n",
    "steady_state_force_find = True\n",
    "randomseed = 2\n",
    "np.random.seed(randomseed)\n",
    "\n",
    "# Varying arrays\n",
    "user = 2\n",
    "F_app_vec = np.arange(0.5,0.8,0.05)\n",
    "p_cons_vec = np.arange(0,0.301,0.025)"
   ]
  },
  {
   "cell_type": "code",
   "execution_count": 4,
   "id": "1c887329",
   "metadata": {
    "scrolled": true
   },
   "outputs": [
    {
     "name": "stdout",
     "output_type": "stream",
     "text": [
      "WARNING: presence of steady state not checked\n"
     ]
    }
   ],
   "source": [
    "# #####################\n",
    "# ## LOAD DATA ##\n",
    "# #####################\n",
    "\n",
    "\n",
    "if steady_state_window is None:\n",
    "    print('WARNING: presence of steady state not checked')\n",
    "\n",
    "phys_deg = main.physical_degrees(A)\n",
    "number_of_nodes = len(A)\n",
    "\n",
    "data = [[_ for _ in p_cons_vec] for _ in F_app_vec]\n",
    "data_q = [[_ for _ in p_cons_vec] for _ in F_app_vec]\n",
    "data_std = [[_ for _ in p_cons_vec] for _ in F_app_vec]\n",
    "for F_app_idx, F_app in enumerate(F_app_vec):\n",
    "    for p_cons_idx, p_cons in enumerate(p_cons_vec):\n",
    "\n",
    "        # F_app-dependent quantities\n",
    "        cutoff = np.floor( -coherence_time * np.log(3*(\n",
    "                    (4*F_app-1)/3)**(1/max_links_swapped)/(4*F_new-1)) )\n",
    "        total_time = cutoff*10\n",
    "        if steady_state_window is None:\n",
    "            pass\n",
    "        else:\n",
    "            steady_state_window = 2*min(qbits_per_channel,cutoff)\n",
    "\n",
    "        # Load data for each value of q\n",
    "        try:\n",
    "            data_vs_q = [None for _ in q_swap_vec]\n",
    "            data_std_vs_q = [None for _ in q_swap_vec]\n",
    "            for q_idx, q_swap in enumerate(q_swap_vec):\n",
    "                # Data\n",
    "                _data = main.load_data_cd(protocol, data_type, topology, n, p_gen, q_swap,\n",
    "                                    p_swap, p_cons, cutoff, max_links_swapped, qbits_per_channel,\n",
    "                                    N_samples, total_time, randomseed)\n",
    "\n",
    "                # Check steady state\n",
    "                if steady_state_window is None:\n",
    "                    # If no window is specified, we assume the steady state was reached\n",
    "                    data_vs_q[q_idx] = _data['avg_vneighs'][user][-1]\n",
    "                    data_std_vs_q[q_idx] = 2*_data['std_vneighs'][user][-1]/np.sqrt(N_samples)\n",
    "                    pass\n",
    "                else:\n",
    "                    if steady_state_force_find: # Ensure that we find a steady state\n",
    "                                                # by making errors progressively large\n",
    "                        vneighs_ss_idx = None\n",
    "                        error_increase = 1\n",
    "                        while vneighs_ss_idx is None:\n",
    "                            error_vneigh = error_increase*min(phys_deg[user]*qbits_per_channel,\n",
    "                                                number_of_nodes)/np.sqrt(N_samples)\n",
    "                            vneighs_ss_idx = main.find_steady_state(_data['avg_vneighs'][user], error_vneigh,\n",
    "                                                                    steady_state_window,\n",
    "                                                                    window_type='shrinking')\n",
    "                            error_increase = error_increase+0.1\n",
    "                    else:                  \n",
    "                        error_vneigh = min(phys_deg[user]*qbits_per_channel,\n",
    "                                            number_of_nodes)/np.sqrt(N_samples)\n",
    "                        vneighs_ss_idx = main.find_steady_state(_data['avg_vneighs'][user], error_vneigh,\n",
    "                                                                steady_state_window,\n",
    "                                                                window_type='shrinking')\n",
    "                    if vneighs_ss_idx is not None:\n",
    "                        data_vs_q[q_idx] = _data['avg_vneighs'][user][-1]\n",
    "                        data_std_vs_q[q_idx] = 2*_data['std_vneighs'][user][-1]/np.sqrt(N_samples)\n",
    "\n",
    "\n",
    "            max_value = max(data_vs_q)\n",
    "            max_index = data_vs_q.index(max_value)\n",
    "            data[F_app_idx][p_cons_idx] = max_value\n",
    "            data_std[F_app_idx][p_cons_idx] = data_std_vs_q[max_index]\n",
    "            data_q[F_app_idx][p_cons_idx] = q_swap_vec[max_index]\n",
    "        except:\n",
    "            data[F_app_idx][p_cons_idx] = 0\n",
    "            data_std[F_app_idx][p_cons_idx] = 0\n",
    "            data_q[F_app_idx][p_cons_idx] = 0\n",
    "\n",
    "#        if round(p_cons,3) in [0.100,0.300]:\n",
    "#            print(round(F_app,3),round(p_cons,3),round(data[F_app_idx][p_cons_idx],3))"
   ]
  },
  {
   "cell_type": "code",
   "execution_count": 5,
   "id": "30d93f3f",
   "metadata": {
    "scrolled": true
   },
   "outputs": [
    {
     "data": {
      "image/png": "[encoded data removed]",
      "text/plain": [
       "<Figure size 314.961x196.85 with 2 Axes>"
      ]
     },
     "metadata": {},
     "output_type": "display_data"
    }
   ],
   "source": [
    "x = F_app_vec\n",
    "y = p_cons_vec\n",
    "\n",
    "z = data\n",
    "\n",
    "minz = np.min(z)\n",
    "\n",
    "maxstd = np.max(data_std)\n",
    "\n",
    "imp.reload(main)\n",
    "\n",
    "filename = 'figs/maxvneighs_vs_q_%s_%d-%d-tree_user%d'%(protocol,d,k,user)\n",
    "filename += '_pgen%.3f_pswap%.3f_qbitsperchannel%d'%(p_gen,p_swap,qbits_per_channel)\n",
    "filename += '_coherencetime%d_maxlinksswapped%d'%(coherence_time,max_links_swapped)\n",
    "filename += '_Fnew%.2f_Nsamples%d'%(F_new,N_samples)\n",
    "filename += '_tolerance%s_randomseed%s_maxstderr%.3f.pdf'%(tolerance,randomseed,maxstd)\n",
    "\n",
    "main.plot_colormap(x,y,z,'$F_\\mathrm{app}$','$p_\\mathrm{cons}$',r'Max. $v_i$',\n",
    "                cbar_max=1, cbar_min=minz, annotate_min=False, annotate_max=False,\n",
    "                annotation_error=maxstd, filename=filename)"
   ]
  },
  {
   "cell_type": "code",
   "execution_count": 10,
   "id": "b2f2a4e6",
   "metadata": {},
   "outputs": [
    {
     "name": "stdout",
     "output_type": "stream",
     "text": [
      "-- 0.50 --\n",
      "0.10 1.886 (0.014)\n",
      "0.30 1.563 (0.013)\n",
      "-- 0.55 --\n",
      "-- 0.60 --\n",
      "-- 0.65 --\n",
      "-- 0.70 --\n",
      "-- 0.75 --\n",
      "-- 0.80 --\n",
      "0.10 1.857 (0.014)\n",
      "0.30 1.544 (0.013)\n"
     ]
    }
   ],
   "source": [
    "for F_app_idx, F_app in enumerate(F_app_vec):\n",
    "    print('--','%.2f'%F_app,'--')\n",
    "    for p_cons_idx, p_cons in enumerate(p_cons_vec):\n",
    "        if ((round(F_app,2)==0.8 or round(F_app,2)==0.5)\n",
    "            and (round(p_cons,2)==0.1 or round(p_cons,2)==0.3)):\n",
    "            print('%.2f'%p_cons,'%.3f'%z[F_app_idx][p_cons_idx], '(%.3f)'%data_std[F_app_idx][p_cons_idx])"
   ]
  },
  {
   "cell_type": "code",
   "execution_count": 11,
   "id": "a9b6abac",
   "metadata": {},
   "outputs": [
    {
     "name": "stdout",
     "output_type": "stream",
     "text": [
      "0.5 0.0\n"
     ]
    },
    {
     "data": {
      "image/png": "[encoded data removed]",
      "text/plain": [
       "<Figure size 314.961x196.85 with 2 Axes>"
      ]
     },
     "metadata": {},
     "output_type": "display_data"
    }
   ],
   "source": [
    "x = F_app_vec\n",
    "y = p_cons_vec\n",
    "\n",
    "z = data_q\n",
    "cbar_label = r'Optimal $q$'\n",
    "\n",
    "imp.reload(main)\n",
    "\n",
    "main.plot_colormap(x,y,z,'$F_\\mathrm{app}$','$p_\\mathrm{cons}$',cbar_label,\n",
    "                cbar_max=1, cbar_min=0, annotate_min=True, annotate_max=True,\n",
    "                filename=None)"
   ]
  }
 ],
 "metadata": {
  "kernelspec": {
   "display_name": "Python 3 (ipykernel)",
   "language": "python",
   "name": "python3"
  },
  "language_info": {
   "codemirror_mode": {
    "name": "ipython",
    "version": 3
   },
   "file_extension": ".py",
   "mimetype": "text/x-python",
   "name": "python",
   "nbconvert_exporter": "python",
   "pygments_lexer": "ipython3",
   "version": "3.10.9"
  }
 },
 "nbformat": 4,
 "nbformat_minor": 5
}
